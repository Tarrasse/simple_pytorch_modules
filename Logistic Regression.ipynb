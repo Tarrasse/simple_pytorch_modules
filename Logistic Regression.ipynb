{
 "cells": [
  {
   "cell_type": "code",
   "execution_count": 1,
   "metadata": {
    "collapsed": true
   },
   "outputs": [],
   "source": [
    "from sklearn.datasets import load_iris\n",
    "from sklearn.model_selection import train_test_split\n",
    "from sklearn.metrics import accuracy_score\n",
    "import time"
   ]
  },
  {
   "cell_type": "markdown",
   "metadata": {},
   "source": [
    "# Loading the dataset"
   ]
  },
  {
   "cell_type": "code",
   "execution_count": 2,
   "metadata": {
    "collapsed": true
   },
   "outputs": [],
   "source": [
    "iris = load_iris()"
   ]
  },
  {
   "cell_type": "code",
   "execution_count": 3,
   "metadata": {},
   "outputs": [
    {
     "data": {
      "text/plain": [
       "((150, 4), (150,), array(['setosa', 'versicolor', 'virginica'],\n",
       "       dtype='<U10'))"
      ]
     },
     "execution_count": 3,
     "metadata": {},
     "output_type": "execute_result"
    }
   ],
   "source": [
    "iris.data.shape, iris.target.shape, iris.target_names"
   ]
  },
  {
   "cell_type": "code",
   "execution_count": 4,
   "metadata": {
    "collapsed": true
   },
   "outputs": [],
   "source": [
    "names = iris.target_names"
   ]
  },
  {
   "cell_type": "markdown",
   "metadata": {},
   "source": [
    "#### - pre-processing"
   ]
  },
  {
   "cell_type": "code",
   "execution_count": 5,
   "metadata": {
    "collapsed": true
   },
   "outputs": [],
   "source": [
    "x_train, x_test, y_train, y_test= train_test_split(iris.data, iris.target)"
   ]
  },
  {
   "cell_type": "code",
   "execution_count": 6,
   "metadata": {},
   "outputs": [
    {
     "name": "stdout",
     "output_type": "stream",
     "text": [
      "(112, 4)\n",
      "(112,)\n",
      "(38, 4)\n",
      "(38,)\n"
     ]
    }
   ],
   "source": [
    "for x in [x_train, y_train, x_test, y_test]:\n",
    "    print (x.shape)"
   ]
  },
  {
   "cell_type": "markdown",
   "metadata": {},
   "source": [
    "# Custom Shallow Neural Network"
   ]
  },
  {
   "cell_type": "markdown",
   "metadata": {},
   "source": [
    "Using the pre-implemented autograde machaine and optimazation algorithm SGD for classification\n",
    "``` python\n",
    "torch.autograde\n",
    "torch.optim.SGD\n",
    "```"
   ]
  },
  {
   "cell_type": "code",
   "execution_count": 7,
   "metadata": {},
   "outputs": [],
   "source": [
    "import torch\n",
    "import torch.nn as nn\n",
    "import torch.nn.functional as F\n",
    "import torch.nn.parameter as parameter\n",
    "import torch.optim as optim\n",
    "from torch.optim.lr_scheduler import StepLR"
   ]
  },
  {
   "cell_type": "code",
   "execution_count": 8,
   "metadata": {
    "collapsed": true
   },
   "outputs": [],
   "source": [
    "class NN(nn.Module):\n",
    "    def __init__(self, x_n, y_n):\n",
    "        \"\"\"\n",
    "        \n",
    "        Arguments:\n",
    "            x_n (int): length of the input vector\n",
    "            y_n (int): length of the output vecor\n",
    "        \"\"\"\n",
    "        super(NN, self).__init__()\n",
    "        # define the input size\n",
    "        self.x_n = x_n\n",
    "        # defing the output size\n",
    "        self.y_n = y_n\n",
    "        # set constant seed to controle the randomness \n",
    "        torch.manual_seed(10)\n",
    "        # define the weights\n",
    "        self.w = parameter.Parameter(torch.rand(x_n, y_n, requires_grad=True))\n",
    "        # define the bias and init it with zeros\n",
    "        self.b = parameter.Parameter(torch.zeros(1, y_n, requires_grad=True))\n",
    "        # init the weights\n",
    "        nn.init.xavier_uniform(self.w)\n",
    "        # register the parametes in the model\n",
    "        self.params = nn.ParameterList([self.w, self.b])\n",
    "        # define lossfunction\n",
    "        self.criterion = nn.CrossEntropyLoss()\n",
    "        # define an optimization algorithm \n",
    "        self.optimizer = optim.SGD(self.parameters(), lr=0.01)\n",
    "    \n",
    "    def forward(self, x):\n",
    "        \"\"\" \n",
    "        \n",
    "        compute the forward pass \n",
    "        \n",
    "        Arguments:\n",
    "            x (torch.Tensor): the input tensor, shape (m, n_x).\n",
    "        \n",
    "        Returns\n",
    "            torch.Tensor: the output of the network\n",
    "        \"\"\"\n",
    "        return F.softmax(x.mm(self.w) + self.b)\n",
    "    \n",
    "    def epoch(self, x, labels):\n",
    "        \"\"\"\n",
    "        perform one epoch of training\n",
    "        \n",
    "        Arguments:\n",
    "            x (torch.Tensor): the input tensor, shape (m, n_x).\n",
    "            labels (torch.LongTensor): the ground truth, shape (m, 1).\n",
    "        \"\"\"\n",
    "        # init the gradients\n",
    "        self.optimizer.zero_grad()\n",
    "        # forward\n",
    "        pred = self(x)\n",
    "        # compute the loss \n",
    "        loss = self.criterion(pred, labels)\n",
    "        # backward pass (computing the gradients)\n",
    "        loss.backward()\n",
    "        # updating the parmeters according the selected optimization algorithm\n",
    "        self.optimizer.step()\n",
    "        \n",
    "    def train(self, epochs, x, labels):\n",
    "        \"\"\"\n",
    "        perform the training\n",
    "        \n",
    "        Arguments:\n",
    "            epochs (int): number of epochs.\n",
    "            x (iterator): the input tensor, shape (m, n_x).\n",
    "            labels (iterator): the ground truth, shape (m, 1).\n",
    "        \"\"\"\n",
    "        # convert the input into `torch.Tensor`\n",
    "        x = torch.Tensor(x)\n",
    "        # convert the labels into  `torch.LongTensor`\n",
    "        labels = torch.LongTensor(labels)\n",
    "        # perform the the training procedure epochs times.\n",
    "        for i in range(epochs):\n",
    "            self.epoch(x, labels)\n",
    "            \n",
    "    def evaluate(self, x, labels):\n",
    "        \"\"\" \n",
    "        compute the classification accuracy of the network on some dataset \n",
    "        \n",
    "        Arguments:\n",
    "            x (iterator): the input tensor, shape (m, n_x).\n",
    "            labels (iterator): the ground truth, shape (m, 1).\n",
    "        \n",
    "        Returns\n",
    "            float: return the accuracy of the model\n",
    "        \"\"\"\n",
    "        x = torch.Tensor(x)\n",
    "        labels = torch.LongTensor(labels)\n",
    "        # compute the output fo the network on the given input \n",
    "        preds = self(x)\n",
    "        # return the accuracy of the model\n",
    "        return (preds.argmax(dim=1) == labels).sum().item()/len(labels)"
   ]
  },
  {
   "cell_type": "code",
   "execution_count": 9,
   "metadata": {},
   "outputs": [
    {
     "name": "stderr",
     "output_type": "stream",
     "text": [
      "/home/tarrasse/anaconda3/lib/python3.6/site-packages/ipykernel_launcher.py:21: UserWarning: nn.init.xavier_uniform is now deprecated in favor of nn.init.xavier_uniform_.\n",
      "/home/tarrasse/anaconda3/lib/python3.6/site-packages/ipykernel_launcher.py:40: UserWarning: Implicit dimension choice for softmax has been deprecated. Change the call to include dim=X as an argument.\n"
     ]
    },
    {
     "name": "stdout",
     "output_type": "stream",
     "text": [
      "traning time: 1.122143030166626\n"
     ]
    }
   ],
   "source": [
    "start = time.time()\n",
    "nn = NN(4, 3)\n",
    "nn.train(3000, x_train, y_train)\n",
    "print(\"traning time:\", time.time() - start)"
   ]
  },
  {
   "cell_type": "code",
   "execution_count": 10,
   "metadata": {},
   "outputs": [
    {
     "name": "stderr",
     "output_type": "stream",
     "text": [
      "/home/tarrasse/anaconda3/lib/python3.6/site-packages/ipykernel_launcher.py:40: UserWarning: Implicit dimension choice for softmax has been deprecated. Change the call to include dim=X as an argument.\n"
     ]
    },
    {
     "data": {
      "text/plain": [
       "0.9732142857142857"
      ]
     },
     "execution_count": 10,
     "metadata": {},
     "output_type": "execute_result"
    }
   ],
   "source": [
    "nn.evaluate(x_train, y_train)"
   ]
  },
  {
   "cell_type": "code",
   "execution_count": 11,
   "metadata": {},
   "outputs": [
    {
     "name": "stderr",
     "output_type": "stream",
     "text": [
      "/home/tarrasse/anaconda3/lib/python3.6/site-packages/ipykernel_launcher.py:40: UserWarning: Implicit dimension choice for softmax has been deprecated. Change the call to include dim=X as an argument.\n"
     ]
    },
    {
     "data": {
      "text/plain": [
       "0.9473684210526315"
      ]
     },
     "execution_count": 11,
     "metadata": {},
     "output_type": "execute_result"
    }
   ],
   "source": [
    "nn.evaluate(x_test, y_test)"
   ]
  },
  {
   "cell_type": "markdown",
   "metadata": {},
   "source": [
    "# Building Simple GD optimizer"
   ]
  },
  {
   "cell_type": "code",
   "execution_count": 24,
   "metadata": {
    "collapsed": true
   },
   "outputs": [],
   "source": [
    "from torch.optim import Optimizer\n",
    "from torch.optim.optimizer import required\n",
    "import torch.nn as nn"
   ]
  },
  {
   "cell_type": "code",
   "execution_count": 28,
   "metadata": {
    "collapsed": true
   },
   "outputs": [],
   "source": [
    "class GD(Optimizer):\n",
    "    \"\"\"\n",
    "    simple gradient decient optimizer, extends the base optimizer `torch.optim.Optimizer`\n",
    "    \n",
    "    Arguments:\n",
    "        params (iterable): iterable of parameters to optimize\n",
    "        lr (float): learning rate        \n",
    "    \"\"\"\n",
    "    def __init__(self, params, lr=required):\n",
    "        if lr is not required and lr < 0.0:\n",
    "            raise ValueError(\"Invalid learning rate: {}\".format(lr))\n",
    "        defaults = dict(lr=lr)\n",
    "        super(GD, self).__init__(params, defaults)\n",
    "        \n",
    "    def __setstate__(self, state):\n",
    "        \"\"\"\n",
    "        called when the model is beaing loading from file\n",
    "\n",
    "        TODO: needs testing.\n",
    "        \"\"\"\n",
    "        super(SGD, self).__setstate__(state)\n",
    "\n",
    "    def step(self):\n",
    "        \"\"\"\n",
    "        takes single Gradient Descent(GD) step.\n",
    "        \"\"\"\n",
    "        # loop over all param groups\n",
    "        for group in self.param_groups:\n",
    "            # loop over every parameter in that group\n",
    "            for p in group['params']:\n",
    "                # skip if p has no effect on the output\n",
    "                if p.grad is None:\n",
    "                    continue\n",
    "                # update the parameter\n",
    "                d_p = p.grad.data\n",
    "                p.data.add_(-group['lr'] * d_p)"
   ]
  },
  {
   "cell_type": "code",
   "execution_count": 29,
   "metadata": {},
   "outputs": [],
   "source": [
    "class NN_GD(nn.Module):\n",
    "    def __init__(self, x_n, y_n):\n",
    "        \"\"\"\n",
    "        \n",
    "        Arguments:\n",
    "            x_n (int): length of the input vector\n",
    "            y_n (int): length of the output vecor\n",
    "        \"\"\"\n",
    "        super(NN_GD, self).__init__()\n",
    "        # define the input size\n",
    "        self.x_n = x_n\n",
    "        # defing the output size\n",
    "        self.y_n = y_n\n",
    "        # set constant seed to controle the randomness \n",
    "        torch.manual_seed(10)\n",
    "        # define the weights\n",
    "        self.w = parameter.Parameter(torch.rand(x_n, y_n, requires_grad=True))\n",
    "        # define the bias and init it with zeros\n",
    "        self.b = parameter.Parameter(torch.zeros(1, y_n, requires_grad=True))\n",
    "        # init the weights\n",
    "        nn.init.xavier_uniform(self.w)\n",
    "        # register the parametes in the model\n",
    "        self.params = nn.ParameterList([self.w, self.b])\n",
    "        # define lossfunction\n",
    "        self.criterion = nn.CrossEntropyLoss()\n",
    "        # define an optimization algorithm \n",
    "        self.optimizer = GD(self.parameters(), lr=0.01)\n",
    "    \n",
    "    def forward(self, x):\n",
    "        \"\"\" \n",
    "        \n",
    "        compute the forward pass \n",
    "        \n",
    "        Arguments:\n",
    "            x (torch.Tensor): the input tensor, shape (m, n_x).\n",
    "        \n",
    "        Returns\n",
    "            torch.Tensor: the output of the network\n",
    "        \"\"\"\n",
    "        return F.softmax(x.mm(self.w) + self.b)\n",
    "    \n",
    "    def epoch(self, x, labels):\n",
    "        \"\"\"\n",
    "        perform one epoch of training\n",
    "        \n",
    "        Arguments:\n",
    "            x (torch.Tensor): the input tensor, shape (m, n_x).\n",
    "            labels (torch.LongTensor): the ground truth, shape (m, 1).\n",
    "        \"\"\"\n",
    "        # init the gradients\n",
    "        self.optimizer.zero_grad()\n",
    "        # forward\n",
    "        pred = self(x)\n",
    "        # compute the loss \n",
    "        loss = self.criterion(pred, labels)\n",
    "        # backward pass (computing the gradients)\n",
    "        loss.backward()\n",
    "        # updating the parmeters according the selected optimization algorithm\n",
    "        self.optimizer.step()\n",
    "        \n",
    "    def train(self, epochs, x, labels):\n",
    "        \"\"\"\n",
    "        perform the training\n",
    "        \n",
    "        Arguments:\n",
    "            epochs (int): number of epochs.\n",
    "            x (iterator): the input tensor, shape (m, n_x).\n",
    "            labels (iterator): the ground truth, shape (m, 1).\n",
    "        \"\"\"\n",
    "        # convert the input into `torch.Tensor`\n",
    "        x = torch.Tensor(x)\n",
    "        # convert the labels into  `torch.LongTensor`\n",
    "        labels = torch.LongTensor(labels)\n",
    "        # perform the the training procedure epochs times.\n",
    "        for i in range(epochs):\n",
    "            self.epoch(x, labels)\n",
    "            \n",
    "    def evaluate(self, x, labels):\n",
    "        \"\"\" \n",
    "        compute the classification accuracy of the network on some dataset \n",
    "        \n",
    "        Arguments:\n",
    "            x (iterator): the input tensor, shape (m, n_x).\n",
    "            labels (iterator): the ground truth, shape (m, 1).\n",
    "        \n",
    "        Returns\n",
    "            float: return the accuracy of the model\n",
    "        \"\"\"\n",
    "        x = torch.Tensor(x)\n",
    "        labels = torch.LongTensor(labels)\n",
    "        # compute the output fo the network on the given input \n",
    "        preds = self(x)\n",
    "        # return the accuracy of the model\n",
    "        return (preds.argmax(dim=1) == labels).sum().item()/len(labels)"
   ]
  },
  {
   "cell_type": "code",
   "execution_count": 30,
   "metadata": {},
   "outputs": [
    {
     "name": "stderr",
     "output_type": "stream",
     "text": [
      "/home/tarrasse/anaconda3/lib/python3.6/site-packages/ipykernel_launcher.py:21: UserWarning: nn.init.xavier_uniform is now deprecated in favor of nn.init.xavier_uniform_.\n",
      "/home/tarrasse/anaconda3/lib/python3.6/site-packages/ipykernel_launcher.py:40: UserWarning: Implicit dimension choice for softmax has been deprecated. Change the call to include dim=X as an argument.\n"
     ]
    },
    {
     "name": "stdout",
     "output_type": "stream",
     "text": [
      "training time: 0.7155048847198486\n"
     ]
    }
   ],
   "source": [
    "start = time.time()\n",
    "lg = NN_GD(4, 3)\n",
    "lg.train(3000, x_train, y_train)\n",
    "print(\"training time:\", time.time() - start)"
   ]
  },
  {
   "cell_type": "code",
   "execution_count": 31,
   "metadata": {},
   "outputs": [
    {
     "name": "stderr",
     "output_type": "stream",
     "text": [
      "/home/tarrasse/anaconda3/lib/python3.6/site-packages/ipykernel_launcher.py:40: UserWarning: Implicit dimension choice for softmax has been deprecated. Change the call to include dim=X as an argument.\n"
     ]
    },
    {
     "data": {
      "text/plain": [
       "0.9473684210526315"
      ]
     },
     "execution_count": 31,
     "metadata": {},
     "output_type": "execute_result"
    }
   ],
   "source": [
    "lg.evaluate(x_test, y_test)"
   ]
  },
  {
   "cell_type": "code",
   "execution_count": 32,
   "metadata": {},
   "outputs": [
    {
     "name": "stderr",
     "output_type": "stream",
     "text": [
      "/home/tarrasse/anaconda3/lib/python3.6/site-packages/ipykernel_launcher.py:40: UserWarning: Implicit dimension choice for softmax has been deprecated. Change the call to include dim=X as an argument.\n"
     ]
    },
    {
     "data": {
      "text/plain": [
       "0.9732142857142857"
      ]
     },
     "execution_count": 32,
     "metadata": {},
     "output_type": "execute_result"
    }
   ],
   "source": [
    "lg.evaluate(x_train, y_train)"
   ]
  },
  {
   "cell_type": "code",
   "execution_count": null,
   "metadata": {
    "collapsed": true
   },
   "outputs": [],
   "source": []
  }
 ],
 "metadata": {
  "kernelspec": {
   "display_name": "Python 3",
   "language": "python",
   "name": "python3"
  },
  "language_info": {
   "codemirror_mode": {
    "name": "ipython",
    "version": 3
   },
   "file_extension": ".py",
   "mimetype": "text/x-python",
   "name": "python",
   "nbconvert_exporter": "python",
   "pygments_lexer": "ipython3",
   "version": "3.6.3"
  }
 },
 "nbformat": 4,
 "nbformat_minor": 2
}
